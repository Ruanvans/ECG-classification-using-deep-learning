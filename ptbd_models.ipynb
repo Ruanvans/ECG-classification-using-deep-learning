{
  "nbformat": 4,
  "nbformat_minor": 0,
  "metadata": {
    "colab": {
      "name": "ptbd_models.ipynb",
      "provenance": [],
      "authorship_tag": "ABX9TyMtpUo47//yc9jvymuSNhom",
      "include_colab_link": true
    },
    "kernelspec": {
      "name": "python3",
      "display_name": "Python 3"
    },
    "accelerator": "GPU"
  },
  "cells": [
    {
      "cell_type": "markdown",
      "metadata": {
        "id": "view-in-github",
        "colab_type": "text"
      },
      "source": [
        "<a href=\"https://colab.research.google.com/github/Ruanvans/ECG-classification-using-deep-learning/blob/master/ptbd_models.ipynb\" target=\"_parent\"><img src=\"https://colab.research.google.com/assets/colab-badge.svg\" alt=\"Open In Colab\"/></a>"
      ]
    },
    {
      "cell_type": "markdown",
      "metadata": {
        "id": "XbSehiWNL09r",
        "colab_type": "text"
      },
      "source": [
        "# **Importation of necessary libraries and tools**"
      ]
    },
    {
      "cell_type": "code",
      "metadata": {
        "id": "gm20dgFG85U-",
        "colab_type": "code",
        "colab": {
          "base_uri": "https://localhost:8080/",
          "height": 35
        },
        "outputId": "fab35de3-78a1-44c0-b4d4-d9b4f6de1145"
      },
      "source": [
        "%tensorflow_version 1.x"
      ],
      "execution_count": 25,
      "outputs": [
        {
          "output_type": "stream",
          "text": [
            "TensorFlow is already loaded. Please restart the runtime to change versions.\n"
          ],
          "name": "stdout"
        }
      ]
    },
    {
      "cell_type": "code",
      "metadata": {
        "id": "BHnbeY8b-LC5",
        "colab_type": "code",
        "colab": {}
      },
      "source": [
        "import numpy as np \n",
        "import pandas as pd \n",
        "import keras \n",
        "import matplotlib.pyplot as plt\n",
        "from sklearn import preprocessing\n",
        "from sklearn.preprocessing import label_binarize\n",
        "from keras.models import Sequential \n",
        "from keras.layers import Reshape, Dense, Activation, Flatten, Convolution1D, Dropout, MaxPooling1D, GlobalAveragePooling1D, AveragePooling1D\n",
        "from keras.utils import to_categorical\n",
        "from sklearn.utils import resample, shuffle \n",
        "from sklearn.decomposition import PCA\n",
        "from sklearn.feature_selection import SelectFromModel\n",
        "from sklearn.tree import DecisionTreeClassifier\n",
        "from sklearn.ensemble import RandomForestClassifier\n",
        "from keras.optimizers import rmsprop\n",
        "from sklearn.metrics import roc_curve, auc ,precision_score, recall_score, confusion_matrix\n",
        "from sklearn.metrics import classification_report, roc_auc_score\n",
        "import itertools\n",
        "from itertools import cycle \n",
        "import random\n",
        "from keras.callbacks import EarlyStopping, ModelCheckpoint\n",
        "from keras.layers import LSTM,Bidirectional, GRU\n",
        "from keras import optimizers,regularizers\n",
        "from keras.layers.normalization import BatchNormalization\n",
        "from scipy import interp"
      ],
      "execution_count": 0,
      "outputs": []
    },
    {
      "cell_type": "markdown",
      "metadata": {
        "id": "VGyi2dCTBnVh",
        "colab_type": "text"
      },
      "source": [
        "# **Helper methods to visualize results**\n"
      ]
    },
    {
      "cell_type": "code",
      "metadata": {
        "id": "sq0C2Tl_-K_h",
        "colab_type": "code",
        "colab": {}
      },
      "source": [
        "def plot_confusion_matrix(cm, classes,\n",
        "                          normalize=False,\n",
        "                          title='Confusion matrix',\n",
        "                          cmap=plt.cm.Blues):\n",
        "   \n",
        "    plt.imshow(cm, interpolation='nearest', cmap=cmap)\n",
        "    plt.title(title)\n",
        "    plt.colorbar()\n",
        "    tick_marks = np.arange(len(classes))\n",
        "    plt.xticks(tick_marks, classes, rotation=45)\n",
        "    plt.yticks(tick_marks, classes)\n",
        "\n",
        "    fmt = '.2f' if normalize else 'd'\n",
        "    thresh = cm.max() / 2.\n",
        "    for i, j in itertools.product(range(cm.shape[0]), range(cm.shape[1])):\n",
        "        plt.text(j, i, format(cm[i, j], fmt),\n",
        "                 horizontalalignment=\"center\",\n",
        "                 color=\"white\" if cm[i, j] > thresh else \"black\")\n",
        "\n",
        "    plt.tight_layout()\n",
        "    plt.ylabel('True label')\n",
        "    plt.xlabel('Predicted label')"
      ],
      "execution_count": 0,
      "outputs": []
    },
    {
      "cell_type": "code",
      "metadata": {
        "id": "1U64zxiz-K8a",
        "colab_type": "code",
        "colab": {}
      },
      "source": [
        "def model_evalutation(history, test, y_test, model):\n",
        "    score = model.evaluate((test),y_test)\n",
        "    print(\"Model Accuracy: %.2f%%\" % (score[1]*100))\n",
        "\n",
        "    plt.figure(figsize=(15,5))\n",
        "\n",
        "    # Plot training & validation accuracy values\n",
        "    plt.subplot(1,2,1)\n",
        "    plt.plot(history.history['accuracy'])\n",
        "    plt.plot(history.history['val_accuracy'])\n",
        "    plt.title('Model accuracy')\n",
        "    plt.ylabel('Accuracy')\n",
        "    plt.xlabel('Epoch')\n",
        "    plt.legend(['Train', 'Test'], loc='upper left')\n",
        "\n",
        "    # Plot training & validation loss values\n",
        "    plt.subplot(1,2,2)\n",
        "    plt.plot(history.history['loss'])\n",
        "    plt.plot(history.history['val_loss'])\n",
        "    plt.title('Model loss')\n",
        "    plt.ylabel('Loss')\n",
        "    plt.xlabel('Epoch')\n",
        "    plt.legend(['Train', 'Test'], loc='upper right')\n",
        "\n",
        "    plt.suptitle(\"Model Accuracy and Model Loss\")\n",
        "    plt.tight_layout()\n",
        "    plt.show()"
      ],
      "execution_count": 0,
      "outputs": []
    },
    {
      "cell_type": "code",
      "metadata": {
        "id": "2b6jO_VU-K4y",
        "colab_type": "code",
        "colab": {}
      },
      "source": [
        "def roc_curve_evaluation(y,y_pred, y_test):\n",
        "\n",
        "    y = label_binarize(y, classes=[0, 1])\n",
        "    n_classes = 2\n",
        "\n",
        "    fpr = dict()\n",
        "    tpr = dict()\n",
        "    roc_auc = dict()\n",
        "    for i in range(n_classes):\n",
        "        fpr[i], tpr[i], _ = roc_curve(y_test[:, i], y_pred[:, i])\n",
        "        roc_auc[i] = auc(fpr[i], tpr[i])\n",
        "\n",
        "    fpr[\"micro\"], tpr[\"micro\"], _ = roc_curve(y_test.ravel(), y_pred.ravel())\n",
        "    roc_auc[\"micro\"] = auc(fpr[\"micro\"], tpr[\"micro\"])\n",
        "\n",
        "    all_fpr = np.unique(np.concatenate([fpr[i] for i in range(n_classes)]))\n",
        "\n",
        "    # Then interpolate all ROC curves at this points\n",
        "    mean_tpr = np.zeros_like(all_fpr)\n",
        "    for i in range(n_classes):\n",
        "        mean_tpr += interp(all_fpr, fpr[i], tpr[i])\n",
        "\n",
        "    mean_tpr /= n_classes\n",
        "\n",
        "    fpr[\"macro\"] = all_fpr\n",
        "    tpr[\"macro\"] = mean_tpr\n",
        "    roc_auc[\"macro\"] = auc(fpr[\"macro\"], tpr[\"macro\"])\n",
        "\n",
        "    plt.figure(figsize=(10,10))\n",
        "    lw = 2\n",
        "    plt.plot(fpr[\"micro\"], tpr[\"micro\"],\n",
        "            label='micro-average ROC curve (area = {0:0.2f})'\n",
        "                  ''.format(roc_auc[\"micro\"]),\n",
        "            color='deeppink', linestyle=':', linewidth=4)\n",
        "\n",
        "    plt.plot(fpr[\"macro\"], tpr[\"macro\"],\n",
        "            label='macro-average ROC curve (area = {0:0.2f})'\n",
        "                  ''.format(roc_auc[\"macro\"]),\n",
        "            color='navy', linestyle=':', linewidth=4)\n",
        "\n",
        "    colors = cycle(['aqua', 'darkorange', 'cornflowerblue'])\n",
        "    for i, color in zip(range(n_classes), colors):\n",
        "        plt.plot(fpr[i], tpr[i], color=color, lw=lw,\n",
        "                label='ROC curve of class {0} (area = {1:0.2f})'\n",
        "                ''.format(i, roc_auc[i]))\n",
        "\n",
        "\n",
        "    plt.plot([0, 1], [0, 1], 'k--', lw=lw)\n",
        "    plt.xlim([0.0, 1.0])\n",
        "    plt.ylim([0.0, 1.05])\n",
        "    plt.xlabel('False Positive Rate')\n",
        "    plt.ylabel('True Positive Rate')\n",
        "    plt.title('Some extension of Receiver operating characteristic to multi-class')\n",
        "    plt.legend(loc=\"lower right\")\n",
        "    plt.show()"
      ],
      "execution_count": 0,
      "outputs": []
    },
    {
      "cell_type": "markdown",
      "metadata": {
        "id": "2t0ijEigB_d5",
        "colab_type": "text"
      },
      "source": [
        "# **Data preparation and preprocessing**"
      ]
    },
    {
      "cell_type": "markdown",
      "metadata": {
        "id": "SS6rlj2qO0ez",
        "colab_type": "text"
      },
      "source": [
        "in the below cell a data set called train_df is made from undersampling the majority class to ensure that the two classes of data are equal"
      ]
    },
    {
      "cell_type": "code",
      "metadata": {
        "id": "1AiLyiko-K1Y",
        "colab_type": "code",
        "colab": {}
      },
      "source": [
        "#importation of datasets\n",
        "df_ptb1 = pd.read_csv('ptbdb_normal.csv', header=None)\n",
        "df_ptb2 = pd.read_csv('ptbdb_abnormal.csv', header=None)\n",
        "\n",
        "#concatenation of the normal and abnormal datasets \n",
        "frames = [df_ptb1, df_ptb2]\n",
        "df_ptb3 = pd.concat(frames) \n",
        "#Does a value count of the newly made concatenated dataset\n",
        "df_ptb3[187] = df_ptb3[187].astype(int)\n",
        "equilibre = df_ptb3[187].value_counts()\n",
        "# Resampling Dataset\n",
        "df_1 = df_ptb3[df_ptb3[187] == 1]\n",
        "df_0 =(df_ptb3[df_ptb3[187] == 0]).sample(n=4000,random_state=42)\n",
        "\n",
        "df_1_upsample=resample(df_1,replace=True,n_samples=4000,random_state=123)\n",
        "train_df=pd.concat([df_0,df_1_upsample])\n",
        "#shuffle method used here to ensure that models are correctly trained and tested\n",
        "train_df= shuffle(train_df)\n",
        "#Value count on the resampled dataset\n",
        "train_df[187].value_counts()\n",
        "\n",
        "resampled = train_df[187].value_counts()"
      ],
      "execution_count": 0,
      "outputs": []
    },
    {
      "cell_type": "markdown",
      "metadata": {
        "id": "mZD87A-iPPqr",
        "colab_type": "text"
      },
      "source": [
        "The below cell is used to create a data set called train_df_upsampled, it is composed of almost the complete abnormal class and an artificially constructed set for the normal class. This artificially constructed set is made by randomly sampling from the normal set until it is composed of 10000 samples"
      ]
    },
    {
      "cell_type": "code",
      "metadata": {
        "id": "0h5XoFuQ-Kv2",
        "colab_type": "code",
        "colab": {}
      },
      "source": [
        "df_1_sample = (df_ptb3[df_ptb3[187] == 1]).sample(n=10000,random_state=27)\n",
        "df_0_sample = df_ptb3[df_ptb3[187] == 0]\n",
        "\n",
        "df_0_upsampled = resample(df_0_sample,replace=True, n_samples= 10000, random_state=27) \n",
        "\n",
        "train_df_upsampled = pd.concat([df_0_upsampled,df_1_sample])\n",
        "train_df_upsampled = shuffle(train_df_upsampled)\n",
        "\n",
        "upsampled = train_df_upsampled[187].value_counts()"
      ],
      "execution_count": 0,
      "outputs": []
    },
    {
      "cell_type": "markdown",
      "metadata": {
        "id": "SQsPteoBQRhY",
        "colab_type": "text"
      },
      "source": [
        "visualisation of the class structures of the original, downsampled, and upsampled data sets. "
      ]
    },
    {
      "cell_type": "code",
      "metadata": {
        "id": "HdykSawh-Kgj",
        "colab_type": "code",
        "colab": {
          "base_uri": "https://localhost:8080/",
          "height": 235
        },
        "outputId": "c6cc4fca-b707-4095-e419-2537fbda534f"
      },
      "source": [
        "print(\"Original structure of the dataset: \")\n",
        "print(equilibre)\n",
        "print(\"Structure of the dataset when undersampled: \")\n",
        "print(resampled)\n",
        "print(\"structure of the dataset when upsampled: \")\n",
        "print(upsampled)"
      ],
      "execution_count": 32,
      "outputs": [
        {
          "output_type": "stream",
          "text": [
            "Original structure of the dataset: \n",
            "1    10506\n",
            "0     4046\n",
            "Name: 187, dtype: int64\n",
            "Structure of the dataset when undersampled: \n",
            "1    4000\n",
            "0    4000\n",
            "Name: 187, dtype: int64\n",
            "structure of the dataset when upsampled: \n",
            "1    10000\n",
            "0    10000\n",
            "Name: 187, dtype: int64\n"
          ],
          "name": "stdout"
        }
      ]
    },
    {
      "cell_type": "markdown",
      "metadata": {
        "id": "Dm6aj0YXQgUB",
        "colab_type": "text"
      },
      "source": [
        "Creation of the x and y sets for the undersampled (X,y) and upsampled (X_up, y_up) data sets to be used for training and testing the models"
      ]
    },
    {
      "cell_type": "code",
      "metadata": {
        "id": "tpPDHyrN-q5q",
        "colab_type": "code",
        "colab": {}
      },
      "source": [
        "X = train_df.values[:,:-1]\n",
        "y = train_df.values[:,-1]\n",
        "\n",
        "X_up = train_df_upsampled.values[:,:-1]\n",
        "y_up = train_df_upsampled.values[:,-1]"
      ],
      "execution_count": 0,
      "outputs": []
    },
    {
      "cell_type": "code",
      "metadata": {
        "id": "SUR08RdA-q22",
        "colab_type": "code",
        "colab": {
          "base_uri": "https://localhost:8080/",
          "height": 339
        },
        "outputId": "19ed6084-12bf-4b20-e3db-90acdc1b1953"
      },
      "source": [
        "plt.figure(figsize=(15,5))\n",
        "#unbalanced data plot\n",
        "plt.subplot(1,2,1)\n",
        "ptbdb_circle = plt.Circle( (0,0), 0.7, color='white')\n",
        "plt.pie(equilibre, labels=['abnormal', 'normal'], colors=['red', 'green'], autopct='%1.1f%%')\n",
        "p=plt.gcf()\n",
        "p.gca().add_artist(ptbdb_circle)\n",
        "plt.title(\"Unbalanced\")\n",
        "#balanced data plot\n",
        "plt.subplot(1,2,2)\n",
        "ptbdb_circle = plt.Circle( (0,0), 0.7, color='white')\n",
        "plt.pie(resampled, labels=['abnormal', 'normal'], colors=['red', 'green'], autopct='%1.1f%%')\n",
        "p=plt.gcf()\n",
        "p.gca().add_artist(ptbdb_circle)\n",
        "plt.title(\"Balanced\")\n",
        "\n",
        "plt.suptitle(\"Unbalanced Data vs Balanced Data\")\n",
        "plt.show()"
      ],
      "execution_count": 34,
      "outputs": [
        {
          "output_type": "display_data",
          "data": {
            "image/png": "[encoded data removed]",
            "text/plain": [
              "<Figure size 1080x360 with 2 Axes>"
            ]
          },
          "metadata": {
            "tags": []
          }
        }
      ]
    },
    {
      "cell_type": "code",
      "metadata": {
        "id": "lWrJBlYA-qz3",
        "colab_type": "code",
        "colab": {
          "base_uri": "https://localhost:8080/",
          "height": 35
        },
        "outputId": "53738ffd-c119-4cf0-e16c-e4be1166786b"
      },
      "source": [
        "#Train and test sets for the ANN\n",
        "X_train = X[:5600]\n",
        "X_test = X[5600:]\n",
        "\n",
        "#data for the convolutional nets that needs to be reshaped\n",
        "Xc = np.asarray(X)\n",
        "Xc = Xc.reshape(8000,187,1)\n",
        " \n",
        "Xc_train = Xc[:5600]\n",
        "Xc_test = Xc[5600:]\n",
        "\n",
        "#label data that is universally applicable\n",
        "y_train = y[:5600]\n",
        "y_test = y[5600:]\n",
        "\n",
        "print(X_train.shape)"
      ],
      "execution_count": 46,
      "outputs": [
        {
          "output_type": "stream",
          "text": [
            "(5600, 187)\n"
          ],
          "name": "stdout"
        }
      ]
    },
    {
      "cell_type": "code",
      "metadata": {
        "id": "xZ8yf2jAR01b",
        "colab_type": "code",
        "colab": {}
      },
      "source": [
        "#train and test sets for the ANN\n",
        "X_up_train = X_up[:14000]\n",
        "X_up_test = X_up[14000:]\n",
        "\n",
        "#data for the convolutional nets that needs to be reshaped\n",
        "Xc_up = np.asarray(X_up)\n",
        "Xc_up = Xc_up.reshape(20000,187,1)\n",
        "\n",
        "Xc_up_train = Xc_up[:14000]\n",
        "Xc_up_test = Xc_up[14000:]\n",
        "\n",
        "#label data that is universally applicable\n",
        "y_up_train = y_up[:14000]\n",
        "y_up_test = y_up[14000:]"
      ],
      "execution_count": 0,
      "outputs": []
    },
    {
      "cell_type": "code",
      "metadata": {
        "id": "S3RKwXo4-qxN",
        "colab_type": "code",
        "colab": {}
      },
      "source": [
        "y_train = to_categorical(y_train)\n",
        "y_test = to_categorical(y_test)\n",
        "\n",
        "y_up_train = to_categorical(y_up_train)\n",
        "y_up_test = to_categorical(y_up_test)"
      ],
      "execution_count": 0,
      "outputs": []
    },
    {
      "cell_type": "markdown",
      "metadata": {
        "id": "ywZWLUCpD-43",
        "colab_type": "text"
      },
      "source": [
        "# **Basic deep neural network to establish a baseline accuracy**"
      ]
    },
    {
      "cell_type": "code",
      "metadata": {
        "id": "-nBkq_Lx_5nr",
        "colab_type": "code",
        "colab": {
          "base_uri": "https://localhost:8080/",
          "height": 363
        },
        "outputId": "d3f5c3d8-38ed-4b66-c5f6-a24b458ee3c4"
      },
      "source": [
        "model_1 = Sequential()\n",
        "model_1.add(Dense(100, input_dim=187, activation='relu'))\n",
        "model_1.add(Dense(100, activation='relu'))\n",
        "model_1.add(Dense(90, activation='relu' ))\n",
        "model_1.add(Dense(70, activation='relu'))\n",
        "model_1.add(Dense(2, activation='sigmoid'))\n",
        "\n",
        "print(model_1.summary())\n",
        "model_1.compile(loss='binary_crossentropy', optimizer='adam', metrics=['accuracy'])"
      ],
      "execution_count": 48,
      "outputs": [
        {
          "output_type": "stream",
          "text": [
            "Model: \"sequential_5\"\n",
            "_________________________________________________________________\n",
            "Layer (type)                 Output Shape              Param #   \n",
            "=================================================================\n",
            "dense_21 (Dense)             (None, 100)               18800     \n",
            "_________________________________________________________________\n",
            "dense_22 (Dense)             (None, 100)               10100     \n",
            "_________________________________________________________________\n",
            "dense_23 (Dense)             (None, 90)                9090      \n",
            "_________________________________________________________________\n",
            "dense_24 (Dense)             (None, 70)                6370      \n",
            "_________________________________________________________________\n",
            "dense_25 (Dense)             (None, 2)                 142       \n",
            "=================================================================\n",
            "Total params: 44,502\n",
            "Trainable params: 44,502\n",
            "Non-trainable params: 0\n",
            "_________________________________________________________________\n",
            "None\n"
          ],
          "name": "stdout"
        }
      ]
    },
    {
      "cell_type": "code",
      "metadata": {
        "id": "ISuvb02-Y2DA",
        "colab_type": "code",
        "colab": {
          "base_uri": "https://localhost:8080/",
          "height": 35
        },
        "outputId": "617d00a1-4539-41ee-ce38-d2107994c30e"
      },
      "source": [
        "print(X_train.shape)"
      ],
      "execution_count": 49,
      "outputs": [
        {
          "output_type": "stream",
          "text": [
            "(5600, 187)\n"
          ],
          "name": "stdout"
        }
      ]
    },
    {
      "cell_type": "code",
      "metadata": {
        "id": "SWaOVh3l_5lK",
        "colab_type": "code",
        "colab": {
          "base_uri": "https://localhost:8080/",
          "height": 565
        },
        "outputId": "c69ee069-8531-4525-f31f-0796de82ebad"
      },
      "source": [
        "callbacks = [EarlyStopping(monitor='val_loss', patience=2)]\n",
        "\n",
        "history = model_1.fit(X_train, y_train, validation_data=(X_test, y_test), callbacks=callbacks ,epochs=100, batch_size=32)"
      ],
      "execution_count": 50,
      "outputs": [
        {
          "output_type": "stream",
          "text": [
            "WARNING:tensorflow:From /usr/local/lib/python3.6/dist-packages/keras/backend/tensorflow_backend.py:422: The name tf.global_variables is deprecated. Please use tf.compat.v1.global_variables instead.\n",
            "\n",
            "Train on 5600 samples, validate on 2400 samples\n",
            "Epoch 1/100\n",
            "5600/5600 [==============================] - 3s 459us/step - loss: 0.4940 - accuracy: 0.7707 - val_loss: 0.4079 - val_accuracy: 0.8277\n",
            "Epoch 2/100\n",
            "5600/5600 [==============================] - 1s 140us/step - loss: 0.3622 - accuracy: 0.8542 - val_loss: 0.3509 - val_accuracy: 0.8540\n",
            "Epoch 3/100\n",
            "5600/5600 [==============================] - 1s 140us/step - loss: 0.3002 - accuracy: 0.8767 - val_loss: 0.3084 - val_accuracy: 0.8621\n",
            "Epoch 4/100\n",
            "5600/5600 [==============================] - 1s 143us/step - loss: 0.2521 - accuracy: 0.8991 - val_loss: 0.2704 - val_accuracy: 0.8890\n",
            "Epoch 5/100\n",
            "5600/5600 [==============================] - 1s 138us/step - loss: 0.2233 - accuracy: 0.9148 - val_loss: 0.2370 - val_accuracy: 0.9112\n",
            "Epoch 6/100\n",
            "5600/5600 [==============================] - 1s 140us/step - loss: 0.2043 - accuracy: 0.9209 - val_loss: 0.2287 - val_accuracy: 0.9190\n",
            "Epoch 7/100\n",
            "5600/5600 [==============================] - 1s 140us/step - loss: 0.1739 - accuracy: 0.9342 - val_loss: 0.2054 - val_accuracy: 0.9183\n",
            "Epoch 8/100\n",
            "5600/5600 [==============================] - 1s 141us/step - loss: 0.1589 - accuracy: 0.9409 - val_loss: 0.2469 - val_accuracy: 0.9008\n",
            "Epoch 9/100\n",
            "5600/5600 [==============================] - 1s 138us/step - loss: 0.1470 - accuracy: 0.9440 - val_loss: 0.1866 - val_accuracy: 0.9315\n",
            "Epoch 10/100\n",
            "5600/5600 [==============================] - 1s 141us/step - loss: 0.1318 - accuracy: 0.9486 - val_loss: 0.2417 - val_accuracy: 0.9073\n",
            "Epoch 11/100\n",
            "5600/5600 [==============================] - 1s 137us/step - loss: 0.1280 - accuracy: 0.9503 - val_loss: 0.1768 - val_accuracy: 0.9408\n",
            "Epoch 12/100\n",
            "5600/5600 [==============================] - 1s 143us/step - loss: 0.1099 - accuracy: 0.9596 - val_loss: 0.1872 - val_accuracy: 0.9290\n",
            "Epoch 13/100\n",
            "5600/5600 [==============================] - 1s 145us/step - loss: 0.0994 - accuracy: 0.9621 - val_loss: 0.2075 - val_accuracy: 0.9300\n"
          ],
          "name": "stdout"
        }
      ]
    },
    {
      "cell_type": "code",
      "metadata": {
        "id": "lxdjZU0b_5iZ",
        "colab_type": "code",
        "colab": {
          "base_uri": "https://localhost:8080/",
          "height": 409
        },
        "outputId": "11e4db77-d714-448a-fea0-298951346492"
      },
      "source": [
        "test = X_test\n",
        "model = model_1\n",
        "model_evalutation(history, test, y_test, model)"
      ],
      "execution_count": 52,
      "outputs": [
        {
          "output_type": "stream",
          "text": [
            "2400/2400 [==============================] - 0s 48us/step\n",
            "Model Accuracy: 93.00%\n"
          ],
          "name": "stdout"
        },
        {
          "output_type": "display_data",
          "data": {
            "image/png": "[encoded data removed]",
            "text/plain": [
              "<Figure size 1080x360 with 2 Axes>"
            ]
          },
          "metadata": {
            "tags": [],
            "needs_background": "light"
          }
        }
      ]
    },
    {
      "cell_type": "code",
      "metadata": {
        "id": "ONKmNcjXADKd",
        "colab_type": "code",
        "colab": {
          "base_uri": "https://localhost:8080/",
          "height": 893
        },
        "outputId": "f4a92868-3edd-4703-a41f-a5f9a26788cb"
      },
      "source": [
        "y_pred = model_1.predict(X_test, batch_size=1000)\n",
        "print(classification_report(y_test.argmax(axis=1), y_pred.argmax(axis=1)))\n",
        "\n",
        "# Compute confusion matrix\n",
        "cnf_matrix = confusion_matrix(y_test.argmax(axis=1), y_pred.argmax(axis=1))\n",
        "np.set_printoptions(precision=2)\n",
        "# Plot non-normalized confusion matrix\n",
        "plt.figure(figsize=(10, 10))\n",
        "plot_confusion_matrix(cnf_matrix, classes=['1','0'],\n",
        "                      title='Confusion matrix, without normalization')\n",
        "plt.show()"
      ],
      "execution_count": 53,
      "outputs": [
        {
          "output_type": "stream",
          "text": [
            "              precision    recall  f1-score   support\n",
            "\n",
            "           0       0.96      0.90      0.93      1208\n",
            "           1       0.90      0.96      0.93      1192\n",
            "\n",
            "    accuracy                           0.93      2400\n",
            "   macro avg       0.93      0.93      0.93      2400\n",
            "weighted avg       0.93      0.93      0.93      2400\n",
            "\n"
          ],
          "name": "stdout"
        },
        {
          "output_type": "display_data",
          "data": {
            "image/png": "[encoded data removed]",
            "text/plain": [
              "<Figure size 720x720 with 2 Axes>"
            ]
          },
          "metadata": {
            "tags": [],
            "needs_background": "light"
          }
        }
      ]
    },
    {
      "cell_type": "code",
      "metadata": {
        "id": "Bp9Gcg7oAGkY",
        "colab_type": "code",
        "colab": {
          "base_uri": "https://localhost:8080/",
          "height": 659
        },
        "outputId": "5ae5cd33-59c2-47b9-f51f-88b8742af558"
      },
      "source": [
        "y = y\n",
        "y_pred = model_1.predict(X_test, batch_size=1000)\n",
        "y_test = y_test\n",
        "\n",
        "roc_curve_evaluation(y, y_pred, y_test)"
      ],
      "execution_count": 55,
      "outputs": [
        {
          "output_type": "stream",
          "text": [
            "/usr/local/lib/python3.6/dist-packages/ipykernel_launcher.py:21: DeprecationWarning: scipy.interp is deprecated and will be removed in SciPy 2.0.0, use numpy.interp instead\n"
          ],
          "name": "stderr"
        },
        {
          "output_type": "display_data",
          "data": {
            "image/png": "[encoded data removed]",
            "text/plain": [
              "<Figure size 720x720 with 1 Axes>"
            ]
          },
          "metadata": {
            "tags": [],
            "needs_background": "light"
          }
        }
      ]
    },
    {
      "cell_type": "markdown",
      "metadata": {
        "id": "s9qTUwLWAOuu",
        "colab_type": "text"
      },
      "source": [
        "# **Orginal convolutional neural network**"
      ]
    },
    {
      "cell_type": "code",
      "metadata": {
        "id": "McUfn9up-qud",
        "colab_type": "code",
        "colab": {}
      },
      "source": [
        "model_1 = Sequential()\n",
        "model_1.add(Convolution1D(100, 5, activation='relu', input_shape=(187, 1)))\n",
        "model_1.add(Convolution1D(110, 5, activation='relu'))\n",
        "model_1.add(Convolution1D(120, 5, activation='relu'))\n",
        "model_1.add(MaxPooling1D(3))\n",
        "model_1.add(Convolution1D(140, 10, activation='relu'))\n",
        "model_1.add(Convolution1D(150, 10, activation='relu'))\n",
        "model_1.add(Convolution1D(160, 10, activation='relu'))\n",
        "model_1.add(Convolution1D(170, 10, activation='relu'))\n",
        "model_1.add(Convolution1D(200, 10, activation='relu'))\n",
        "model_1.add(GlobalAveragePooling1D())\n",
        "model_1.add(Dropout(0.5))\n",
        "model_1.add(Dense(100, activation='relu'))\n",
        "model_1.add(Dense(50, activation='relu' ))\n",
        "model_1.add(Dense(2, activation='softmax'))\n",
        "\n",
        "print(model_1.summary())\n",
        "model_1.compile(optimizer='adam', loss='categorical_crossentropy', metrics=['accuracy'])"
      ],
      "execution_count": 0,
      "outputs": []
    },
    {
      "cell_type": "code",
      "metadata": {
        "id": "GfYOn5no-qru",
        "colab_type": "code",
        "colab": {}
      },
      "source": [
        "callbacks = [EarlyStopping(monitor='val_loss', patience=5)]\n",
        "\n",
        "history = model_1.fit(Xc_train, label_train, validation_data=(Xc_test, label_test), callbacks=callbacks, epochs=40, batch_size= 32)"
      ],
      "execution_count": 0,
      "outputs": []
    },
    {
      "cell_type": "code",
      "metadata": {
        "id": "A7wVdCTr-qib",
        "colab_type": "code",
        "colab": {}
      },
      "source": [
        "test = Xc_test\n",
        "y_test = label_test\n",
        "model = model_1\n",
        "model_evalutation(history, test, y_test, model)"
      ],
      "execution_count": 0,
      "outputs": []
    },
    {
      "cell_type": "code",
      "metadata": {
        "id": "Apt0C8ou_CVq",
        "colab_type": "code",
        "colab": {}
      },
      "source": [
        "y_pred = model_1.predict(Xc_test, batch_size=1000)\n",
        "print(classification_report(y_test.argmax(axis=1), y_pred.argmax(axis=1)))\n",
        "\n",
        "# Compute confusion matrix\n",
        "cnf_matrix = confusion_matrix(y_test.argmax(axis=1), y_pred.argmax(axis=1))\n",
        "np.set_printoptions(precision=2)\n",
        "\n",
        "# Plot non-normalized confusion matrix\n",
        "plt.figure(figsize=(10, 10))\n",
        "plot_confusion_matrix(cnf_matrix, classes=['0','1'],\n",
        "                      title='Confusion matrix, without normalization')\n",
        "plt.show()\n"
      ],
      "execution_count": 0,
      "outputs": []
    },
    {
      "cell_type": "code",
      "metadata": {
        "id": "FXRhGFyu_CS9",
        "colab_type": "code",
        "colab": {}
      },
      "source": [
        "y = y \n",
        "y_pred = model_1.predict(Xc_test, batch_size=1000)\n",
        "y_test = label_test\n",
        "\n",
        "roc_curve_evaluation(y, y_pred, y_test)"
      ],
      "execution_count": 0,
      "outputs": []
    },
    {
      "cell_type": "code",
      "metadata": {
        "id": "1AkSrDa2_CP_",
        "colab_type": "code",
        "colab": {}
      },
      "source": [
        "callbacks = [EarlyStopping(monitor='val_loss', patience=5)]\n",
        "\n",
        "history = model_1.fit(Xc_up_train, y_up_train, validation_data=(Xc_up_test, y_up_test), callbacks=callbacks, epochs=40, batch_size= 32)"
      ],
      "execution_count": 0,
      "outputs": []
    },
    {
      "cell_type": "code",
      "metadata": {
        "id": "wb570MOY_CNb",
        "colab_type": "code",
        "colab": {}
      },
      "source": [
        "test = Xc_up_test\n",
        "y_test = y_up_test\n",
        "model = model_1\n",
        "model_evalutation(history, test, y_test, model)"
      ],
      "execution_count": 0,
      "outputs": []
    },
    {
      "cell_type": "code",
      "metadata": {
        "id": "ae9wuWe__CKD",
        "colab_type": "code",
        "colab": {}
      },
      "source": [
        "y_pred = model_1.predict(Xc_up_test, batch_size=1000)\n",
        "print(classification_report(y_up_test.argmax(axis=1), y_pred.argmax(axis=1)))\n",
        "\n",
        "# Compute confusion matrix\n",
        "cnf_matrix = confusion_matrix(y_up_test.argmax(axis=1), y_pred.argmax(axis=1))\n",
        "np.set_printoptions(precision=2)\n",
        "\n",
        "# Plot non-normalized confusion matrix\n",
        "plt.figure(figsize=(10, 10))\n",
        "plot_confusion_matrix(cnf_matrix, classes=['0','1'],\n",
        "                      title='Confusion matrix, without normalization')\n",
        "plt.show()"
      ],
      "execution_count": 0,
      "outputs": []
    },
    {
      "cell_type": "markdown",
      "metadata": {
        "id": "nVxWlLAXLGgn",
        "colab_type": "text"
      },
      "source": [
        "# **Well known convolutional neural network for comparison purposes**"
      ]
    },
    {
      "cell_type": "code",
      "metadata": {
        "id": "DD47KajN_CCg",
        "colab_type": "code",
        "colab": {}
      },
      "source": [
        "model_2 = Sequential()\n",
        "model_2.add(Convolution1D(6, 3, activation='relu', input_shape=(187, 1), padding='same'))\n",
        "model_2.add(AveragePooling1D(2))\n",
        "model_2.add(Convolution1D(16, 3, activation='relu', padding='valid'))\n",
        "model_2.add(AveragePooling1D(2))\n",
        "model_2.add(Flatten())\n",
        "model_2.add(Dense(120, activation='relu'))\n",
        "model_2.add(Dense(84, activation='relu'))\n",
        "model_2.add(Dense(2, activation='softmax'))\n",
        "\n",
        "print(model_2.summary())\n",
        "model_2.compile(optimizer='adam', loss='categorical_crossentropy', metrics=['accuracy'])"
      ],
      "execution_count": 0,
      "outputs": []
    },
    {
      "cell_type": "code",
      "metadata": {
        "id": "ncKp7Rp2_j4C",
        "colab_type": "code",
        "colab": {}
      },
      "source": [
        "callbacks = [EarlyStopping(monitor='val_loss', patience=8)]\n",
        "\n",
        "history = model_2.fit(Xc_train, label_train, validation_data=(Xc_test, label_test), callbacks=callbacks , epochs=40, batch_size= 32)"
      ],
      "execution_count": 0,
      "outputs": []
    },
    {
      "cell_type": "code",
      "metadata": {
        "id": "lvMGTIr4_j0I",
        "colab_type": "code",
        "colab": {}
      },
      "source": [
        "test = Xc_test\n",
        "model = model_2\n",
        "model_evalutation(history, test, y_test, model)"
      ],
      "execution_count": 0,
      "outputs": []
    },
    {
      "cell_type": "code",
      "metadata": {
        "id": "oPq4ZZqk_jxD",
        "colab_type": "code",
        "colab": {}
      },
      "source": [
        "y_pred = model_2.predict(Xc_test, batch_size=1000)\n",
        "print(classification_report(y_test.argmax(axis=1), y_pred.argmax(axis=1)))\n",
        "\n",
        "# Compute confusion matrix\n",
        "cnf_matrix = confusion_matrix(y_test.argmax(axis=1), y_pred.argmax(axis=1))\n",
        "np.set_printoptions(precision=2)\n",
        "# Plot non-normalized confusion matrix\n",
        "plt.figure(figsize=(10, 10))\n",
        "plot_confusion_matrix(cnf_matrix, classes=['0','1'],\n",
        "                      title='Confusion matrix, without normalization')\n",
        "plt.show()"
      ],
      "execution_count": 0,
      "outputs": []
    },
    {
      "cell_type": "code",
      "metadata": {
        "id": "mrf3xOMc_jtm",
        "colab_type": "code",
        "colab": {}
      },
      "source": [
        "y = y\n",
        "y_pred = model_2.predict(Xc_test, batch_size=1000)\n",
        "y_test = label_test\n",
        "\n",
        "roc_curve_evaluation(y, y_pred, y_test)"
      ],
      "execution_count": 0,
      "outputs": []
    },
    {
      "cell_type": "markdown",
      "metadata": {
        "id": "fBEmZOw3LSKh",
        "colab_type": "text"
      },
      "source": [
        "# **Original Recurrent neural network**"
      ]
    },
    {
      "cell_type": "code",
      "metadata": {
        "id": "0e9oxLfU_jpy",
        "colab_type": "code",
        "colab": {}
      },
      "source": [
        "im_shape=(Xc_train.shape[1],1)\n",
        "\n",
        "model_5= Sequential()\n",
        "model_5.add(Dense(32,W_regularizer=regularizers.l2(l=0.01), input_shape=im_shape))\n",
        "model_5.add(Bidirectional(LSTM(64, return_sequences=True))) #, input_shape=(seqlength, features)) ) ### bidirectional ---><---\n",
        "model_5.add(Dense(32,W_regularizer=regularizers.l2(l=0.01), input_shape=im_shape))\n",
        "model_5.add(Bidirectional(LSTM(64, return_sequences=True)))\n",
        "model_5.add(Dropout(0.2))\n",
        "model_5.add(Dense(32,W_regularizer=regularizers.l2(l=0.01), input_shape=im_shape))\n",
        "model_5.add(Bidirectional(LSTM(64, return_sequences=True)))\n",
        "model_5.add(Dense(32,W_regularizer=regularizers.l2(l=0.01), input_shape=im_shape))\n",
        "model_5.add(Bidirectional(LSTM(64, return_sequences=True)))\n",
        "model_5.add(Dropout(0.2))\n",
        "model_5.add(BatchNormalization())\n",
        "model_5.add(Dense(64, activation='relu',W_regularizer=regularizers.l2(l=0.01)))\n",
        "model_5.add(Dense(64, activation='relu',W_regularizer=regularizers.l2(l=0.01)))\n",
        "model_5.add(Dropout(0.2))\n",
        "model_5.add(BatchNormalization())\n",
        "model_5.add(Dense(64, activation='relu',W_regularizer=regularizers.l2(l=0.01)))\n",
        "model_5.add(Dense(32, activation='relu',W_regularizer=regularizers.l2(l=0.01)))\n",
        "model_5.add(Dense(2, activation='relu',W_regularizer=regularizers.l2(l=0.01)))\n",
        "model_5.add(Flatten())\n",
        "model_5.add(Dense(2, activation='sigmoid'))\n",
        "\n",
        "\n",
        "adam = optimizers.adam(lr=0.001, beta_1=0.9, beta_2=0.999, epsilon=1e-08, decay=0.0)\n",
        "model_5.compile(loss='categorical_crossentropy', optimizer='adam', metrics = ['accuracy']) \n",
        "print(model_5.summary())"
      ],
      "execution_count": 0,
      "outputs": []
    },
    {
      "cell_type": "code",
      "metadata": {
        "id": "JGqe2Gkp_jh1",
        "colab_type": "code",
        "colab": {}
      },
      "source": [
        "callbacks = [EarlyStopping(monitor='val_loss', patience=5)]\n",
        "history=model_5.fit(Xc_train, y_train,epochs=40,callbacks=callbacks, batch_size=32,validation_data=(Xc_test,y_test))"
      ],
      "execution_count": 0,
      "outputs": []
    },
    {
      "cell_type": "code",
      "metadata": {
        "id": "2jNe9GkBAyWD",
        "colab_type": "code",
        "colab": {}
      },
      "source": [
        "test = Xc_test\n",
        "model = model_5\n",
        "model_evalutation(history, test, y_test, model)"
      ],
      "execution_count": 0,
      "outputs": []
    },
    {
      "cell_type": "code",
      "metadata": {
        "id": "5cD4qbYHAyBG",
        "colab_type": "code",
        "colab": {}
      },
      "source": [
        "y_pred = model_5.predict(Xc_test, batch_size=1000)\n",
        "print(classification_report(y_test.argmax(axis=1), y_pred.argmax(axis=1)))\n",
        "\n",
        "# Compute confusion matrix\n",
        "cnf_matrix = confusion_matrix(y_test.argmax(axis=1), y_pred.argmax(axis=1))\n",
        "np.set_printoptions(precision=2)\n",
        "# Plot non-normalized confusion matrix\n",
        "plt.figure(figsize=(10, 10))\n",
        "plot_confusion_matrix(cnf_matrix, classes=['1','0'],\n",
        "                      title='Confusion matrix, without normalization')\n",
        "plt.show()"
      ],
      "execution_count": 0,
      "outputs": []
    },
    {
      "cell_type": "code",
      "metadata": {
        "id": "jWBkPPKlAxt-",
        "colab_type": "code",
        "colab": {}
      },
      "source": [
        "y = y\n",
        "y_pred = model_5.predict(Xc_test, batch_size=1000)\n",
        "y_test = label_test\n",
        "\n",
        "roc_curve_evaluation(y, y_pred, y_test)"
      ],
      "execution_count": 0,
      "outputs": []
    }
  ]
}